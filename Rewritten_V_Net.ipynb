{
  "nbformat": 4,
  "nbformat_minor": 0,
  "metadata": {
    "colab": {
      "name": "Untitled6.ipynb",
      "provenance": [],
      "authorship_tag": "ABX9TyOZ+MO8IAYRanR2b/xGoWM4",
      "include_colab_link": true
    },
    "kernelspec": {
      "name": "python3",
      "display_name": "Python 3"
    },
    "language_info": {
      "name": "python"
    }
  },
  "cells": [
    {
      "cell_type": "markdown",
      "metadata": {
        "id": "view-in-github",
        "colab_type": "text"
      },
      "source": [
        "<a href=\"https://colab.research.google.com/github/vantainguyen/educational/blob/master/Rewritten_V_Net.ipynb\" target=\"_parent\"><img src=\"https://colab.research.google.com/assets/colab-badge.svg\" alt=\"Open In Colab\"/></a>"
      ]
    },
    {
      "cell_type": "code",
      "execution_count": null,
      "metadata": {
        "id": "CHz23Zl2CHSa"
      },
      "outputs": [],
      "source": [
        "# Parameters for the two model we want to build\n",
        "learning_rate1=0.001\n",
        "learning_rate2=0.01\n",
        "\n",
        "optimizer1 = tf.keras.optimizers.Adam(learning_rate=learning_rate1)\n",
        "optimizer2 = tf.keras.optimizers.Adam(learning_rate=learning_rate2)\n",
        "\n",
        "batch_size1 = 8\n",
        "batch_size2 = 8\n",
        "\n",
        "kernel_size1 = 3\n",
        "kernel_size2 = 3\n",
        "\n",
        "filter_base1 = 16\n",
        "filter_base2 = 32\n",
        "\n",
        "#loss1 = 'mean_squared_error'\n",
        "#loss2 = 'mean_squared_error'\n",
        "\n",
        "self_defined_loss = False # To get the root mean square error\n",
        "\n",
        "if self_defined_loss:\n",
        "\n",
        "  def loss_func(y_true, y_pred): \n",
        "      \n",
        "      # Root mean square loss\n",
        "      squared_difference = tf.square(y_true - y_pred)\n",
        "      mean_square_loss = tf.reduce_mean(squared_difference, axis=-1)\n",
        "      root_mean_square_loss = tf.sqrt(mean_square_loss + 1e-20)\n",
        "      \n",
        "      return root_mean_square_loss\n",
        "\n",
        "else:\n",
        "\n",
        "  loss_func = 'mean_squared_error'\n",
        "\n",
        "\n",
        "\n",
        "epochs_train = 300\n",
        "\n",
        "save_period = epochs_train\n",
        "\n"
      ]
    }
  ]
}